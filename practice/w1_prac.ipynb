{
  "nbformat": 4,
  "nbformat_minor": 0,
  "metadata": {
    "colab": {
      "provenance": [],
      "mount_file_id": "1jAFI4MwCpRRFbIbhidfQ8z7-0UNJWE_n",
      "authorship_tag": "ABX9TyMSTAZWL5NtFFS/etsBsIjT",
      "include_colab_link": true
    },
    "kernelspec": {
      "name": "python3",
      "display_name": "Python 3"
    },
    "language_info": {
      "name": "python"
    }
  },
  "cells": [
    {
      "cell_type": "markdown",
      "metadata": {
        "id": "view-in-github",
        "colab_type": "text"
      },
      "source": [
        "<a href=\"https://colab.research.google.com/github/seongyeon1/AI4DL/blob/main/practice/w1_prac.ipynb\" target=\"_parent\"><img src=\"https://colab.research.google.com/assets/colab-badge.svg\" alt=\"Open In Colab\"/></a>"
      ]
    },
    {
      "cell_type": "markdown",
      "source": [
        "## Setup"
      ],
      "metadata": {
        "id": "mKbjIqktMpHw"
      }
    },
    {
      "cell_type": "code",
      "execution_count": 1,
      "metadata": {
        "colab": {
          "base_uri": "https://localhost:8080/"
        },
        "id": "Fq_45YZLMntU",
        "outputId": "e4f1646c-49de-485d-bc27-d0a9131cd242"
      },
      "outputs": [
        {
          "output_type": "stream",
          "name": "stdout",
          "text": [
            "Drive already mounted at /content/drive; to attempt to forcibly remount, call drive.mount(\"/content/drive\", force_remount=True).\n"
          ]
        }
      ],
      "source": [
        "from google.colab import drive\n",
        "drive.mount('/content/drive')"
      ]
    },
    {
      "cell_type": "code",
      "source": [
        "cd '/content/drive/MyDrive'"
      ],
      "metadata": {
        "colab": {
          "base_uri": "https://localhost:8080/"
        },
        "id": "PQKPx7r2M2hl",
        "outputId": "a9a0150f-57ae-4a69-9c08-0cf40fc579fa"
      },
      "execution_count": 3,
      "outputs": [
        {
          "output_type": "stream",
          "name": "stdout",
          "text": [
            "/content/drive/MyDrive\n"
          ]
        }
      ]
    },
    {
      "cell_type": "code",
      "source": [
        "!git clone https://github.com/seongyeon1/Hands-On-Data-Analysis-with-Pandas-2nd-edition.git"
      ],
      "metadata": {
        "colab": {
          "base_uri": "https://localhost:8080/"
        },
        "id": "qk9wrugZNCkT",
        "outputId": "cd71be88-7149-44b3-9dd4-7fb0b887ccfd"
      },
      "execution_count": 4,
      "outputs": [
        {
          "output_type": "stream",
          "name": "stdout",
          "text": [
            "Cloning into 'Hands-On-Data-Analysis-with-Pandas-2nd-edition'...\n",
            "remote: Enumerating objects: 3413, done.\u001b[K\n",
            "remote: Counting objects: 100% (3413/3413), done.\u001b[K\n",
            "remote: Compressing objects: 100% (1233/1233), done.\u001b[K\n",
            "remote: Total 3413 (delta 2128), reused 3356 (delta 2117), pack-reused 0\u001b[K\n",
            "Receiving objects: 100% (3413/3413), 75.18 MiB | 15.07 MiB/s, done.\n",
            "Resolving deltas: 100% (2128/2128), done.\n",
            "Updating files: 100% (216/216), done.\n"
          ]
        }
      ]
    },
    {
      "cell_type": "code",
      "source": [
        "import os\n",
        "import sys\n",
        "sys.path.append(os.path.abspath('/content/drive/MyDrive/Hands-On-Data-Analysis-with-Pandas-2nd-edition/visual-aids'))"
      ],
      "metadata": {
        "id": "hXUCpn_4NEot"
      },
      "execution_count": 5,
      "outputs": []
    },
    {
      "cell_type": "code",
      "source": [
        "from visual_aids import stats_viz"
      ],
      "metadata": {
        "id": "R-V66YutNfvX"
      },
      "execution_count": 6,
      "outputs": []
    },
    {
      "cell_type": "code",
      "source": [],
      "metadata": {
        "id": "rGg4jjPbNjJ4"
      },
      "execution_count": null,
      "outputs": []
    }
  ]
}